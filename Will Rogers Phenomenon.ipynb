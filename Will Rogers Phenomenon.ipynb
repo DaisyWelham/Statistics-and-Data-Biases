{
 "cells": [
  {
   "cell_type": "markdown",
   "id": "5ca5fe81-61d6-40a3-97fa-0519cd2df29a",
   "metadata": {},
   "source": [
    "Counterintuitively, you can sometimes increase the average of two groups by moving individuals from one group to another. Suppose a teacher teaches two classes, A and B. and is evaluated on their class average marks. We will provide an example distribution of marks and show that moving a student from class A to class B increases both averages."
   ]
  },
  {
   "cell_type": "code",
   "execution_count": 1,
   "id": "8b880298-7c8d-4413-9777-06ecb1c280d6",
   "metadata": {},
   "outputs": [],
   "source": [
    "import numpy as np"
   ]
  },
  {
   "cell_type": "code",
   "execution_count": 2,
   "id": "21c30322-bff1-4f2b-a852-7191aefbe357",
   "metadata": {},
   "outputs": [
    {
     "name": "stdout",
     "output_type": "stream",
     "text": [
      "Class A average: 72.75, Class B average: 44.5\n"
     ]
    }
   ],
   "source": [
    "classA = [93, 92, 88, 73, 65, 64, 57, 50]\n",
    "classB = [54, 51, 48, 45, 36, 33]\n",
    "\n",
    "print(f\"Class A average: {np.mean(classA)}, Class B average: {np.mean(classB)}\")"
   ]
  },
  {
   "cell_type": "markdown",
   "id": "9bc3ecae-6d34-434d-b93b-8d8c02e6ee91",
   "metadata": {},
   "source": [
    "Now let's move the student who scored 50 from class A to class B!"
   ]
  },
  {
   "cell_type": "code",
   "execution_count": 3,
   "id": "f8c238d7-fbd5-48f7-b876-b37a425015a2",
   "metadata": {},
   "outputs": [
    {
     "name": "stdout",
     "output_type": "stream",
     "text": [
      "After the move: Class A average: 76.0, Class B average: 45.0\n"
     ]
    }
   ],
   "source": [
    "classA = [93, 92, 88, 73, 65, 64, 57]\n",
    "classB = [54, 51, 50, 48, 45, 36, 31]\n",
    "\n",
    "print(f\"After the move: Class A average: {np.mean(classA)}, Class B average: {np.mean(classB)}\")"
   ]
  },
  {
   "cell_type": "markdown",
   "id": "3c4f544c-9293-4c72-af8d-4f69987459d0",
   "metadata": {},
   "source": [
    "Since the student who scored 50 was below average in class A and above average in class B, moving them from class A to class B increased the average marks in both class A and class B!"
   ]
  },
  {
   "cell_type": "code",
   "execution_count": null,
   "id": "43c05495-a051-4913-943c-4f20d3f22366",
   "metadata": {},
   "outputs": [],
   "source": []
  }
 ],
 "metadata": {
  "kernelspec": {
   "display_name": "Python 3 (ipykernel)",
   "language": "python",
   "name": "python3"
  },
  "language_info": {
   "codemirror_mode": {
    "name": "ipython",
    "version": 3
   },
   "file_extension": ".py",
   "mimetype": "text/x-python",
   "name": "python",
   "nbconvert_exporter": "python",
   "pygments_lexer": "ipython3",
   "version": "3.13.5"
  }
 },
 "nbformat": 4,
 "nbformat_minor": 5
}
