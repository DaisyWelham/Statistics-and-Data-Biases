{
 "cells": [
  {
   "cell_type": "markdown",
   "id": "8d4da62e-2b71-4ca6-9783-c66de7bccd9f",
   "metadata": {},
   "source": [
    "In the Base Rate Neglect notebook (see: https://github.com/DaisyWelham/Statistics-and-Data-Biases/blob/main/Base%20Rate%20Neglect.ipynb ) we saw that if we have 2,500 blobs taking a test with 95% true positive rate, 5% false negative rate, 98% true negative rate, and 2% false negative rate, a single positive test gives us an expected 4.76% chance of actually having the disease (we called it \"jeebies\"). Suppose we want to do better than this, how can we do it?\n",
    "\n",
    "The way to update beliefs with new evidence is called Bayes' Theorem. We find the probability of having the disease (X) given the evidence (E) using:\n",
    "\n",
    "P(X|E) = P(E|X) * P(X) / P(E)\n",
    "\n",
    "Where P(X) is our \"prior\", our current best guess of whether we have the disease regardless of evidence, P(E|X) is the probability we would test positive given we have the disease, and P(E) is our total probability of testing positive regardless of if we have the disease or not. \n",
    "\n",
    "Let's implement a Bayes Theorem calculator and show that it agrees with our predictions from the Base Rate Neglect notebook!"
   ]
  },
  {
   "cell_type": "markdown",
   "id": "cc8aec21-b685-4888-bdde-7794f29f9980",
   "metadata": {},
   "source": [
    "## Bayes Theorem"
   ]
  },
  {
   "cell_type": "code",
   "execution_count": 1,
   "id": "9d2c1465-9f3c-4667-bfd4-8f94b3449018",
   "metadata": {},
   "outputs": [
    {
     "name": "stdout",
     "output_type": "stream",
     "text": [
      "Probability we have jeebies given one positive test according to Bayes' Theorem: 4.538939321548017%\n"
     ]
    }
   ],
   "source": [
    "def bayesTheorem(probEgivenX, probX, probE):\n",
    "    return(probEgivenX * probX / probE)\n",
    "\n",
    "probX = 0.001 #Base rate\n",
    "probEgivenX = 0.95 #True positive rate\n",
    "\n",
    "'''\n",
    "probE comes from the probability that we are positive and test positive, \n",
    "plus the probabiltiy that we are not positive but test positive anyway\n",
    "'''\n",
    "\n",
    "probE = (0.95 * 0.001)  + (0.999 * 0.02)\n",
    "\n",
    "print(f\"Probability we have jeebies given one positive test according to Bayes' Theorem: {100 * bayesTheorem(probEgivenX, probX, probE)}%\" )"
   ]
  },
  {
   "cell_type": "markdown",
   "id": "592a019f-863a-4d1c-9fdb-fd3f719d5a9e",
   "metadata": {},
   "source": [
    "Now suppose we do another test, with the same probabilities, but independently of our original test. We test positive again. We can do Bayes' theorem again, with our new prior P(X). What is the probability we have jeebies now?"
   ]
  },
  {
   "cell_type": "code",
   "execution_count": 2,
   "id": "2944c6a9-0ff5-42b8-913d-85e19b8cbfeb",
   "metadata": {},
   "outputs": [
    {
     "name": "stdout",
     "output_type": "stream",
     "text": [
      "Probability we have jeebies given two positive tests according to Bayes' Theorem: 68.33593628258868%\n"
     ]
    }
   ],
   "source": [
    "probX = 0.04538939321548017\n",
    "#probEgivenX doesn't change\n",
    "probE = (0.95 * probX)  + (0.999 * 0.02)\n",
    "print(f\"Probability we have jeebies given two positive tests according to Bayes' Theorem: {100 * bayesTheorem(probEgivenX, probX, probE)}%\" )"
   ]
  },
  {
   "cell_type": "markdown",
   "id": "34120f7c-65f5-487a-adb6-718b4eeda002",
   "metadata": {},
   "source": [
    "68.3% is much more confidence! But we want to be really sure, so let's do a third test."
   ]
  },
  {
   "cell_type": "code",
   "execution_count": 3,
   "id": "b632e1a9-c08f-4bf0-b56d-d14ce68d15fa",
   "metadata": {},
   "outputs": [
    {
     "name": "stdout",
     "output_type": "stream",
     "text": [
      "Probability we have jeebies given three positive tests according to Bayes' Theorem: 97.01421785827868%\n"
     ]
    }
   ],
   "source": [
    "probX = 0.6833593628258868\n",
    "#probEgivenX doesn't change\n",
    "probE = (0.95 * probX)  + (0.999 * 0.02)\n",
    "print(f\"Probability we have jeebies given three positive tests according to Bayes' Theorem: {100 * bayesTheorem(probEgivenX, probX, probE)}%\" )"
   ]
  },
  {
   "cell_type": "markdown",
   "id": "23d2822d-dffe-449d-a616-50a2c3071f75",
   "metadata": {},
   "source": [
    "Okay, it really does seem like we have jeebies! Time to stay home and learn more about statistics! :)"
   ]
  }
 ],
 "metadata": {
  "kernelspec": {
   "display_name": "Python 3 (ipykernel)",
   "language": "python",
   "name": "python3"
  },
  "language_info": {
   "codemirror_mode": {
    "name": "ipython",
    "version": 3
   },
   "file_extension": ".py",
   "mimetype": "text/x-python",
   "name": "python",
   "nbconvert_exporter": "python",
   "pygments_lexer": "ipython3",
   "version": "3.13.5"
  }
 },
 "nbformat": 4,
 "nbformat_minor": 5
}
